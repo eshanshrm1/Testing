{
  "nbformat": 4,
  "nbformat_minor": 0,
  "metadata": {
    "colab": {
      "provenance": [],
      "authorship_tag": "ABX9TyMijXtx0e1wudBYQw0Iq/ow",
      "include_colab_link": true
    },
    "kernelspec": {
      "name": "python3",
      "display_name": "Python 3"
    },
    "language_info": {
      "name": "python"
    }
  },
  "cells": [
    {
      "cell_type": "markdown",
      "metadata": {
        "id": "view-in-github",
        "colab_type": "text"
      },
      "source": [
        "<a href=\"https://colab.research.google.com/github/eshanshrm1/Testing/blob/main/Untitled3.ipynb\" target=\"_parent\"><img src=\"https://colab.research.google.com/assets/colab-badge.svg\" alt=\"Open In Colab\"/></a>"
      ]
    },
    {
      "cell_type": "code",
      "execution_count": null,
      "metadata": {
        "id": "-XqVvwD5pB-5"
      },
      "outputs": [],
      "source": [
        "import pandas as pd\n",
        "from sklearn.feature_extraction.text import TfidfVectorizer\n",
        "from sklearn.naive_bayes import MultinomialNB\n",
        "from sklearn.pipeline import Pipeline\n",
        "from sklearn.model_selection import train_test_split\n",
        "from sklearn.metrics import accuracy_score, classification_report\n",
        "\n",
        "# Load the training data from an Excel file\n",
        "excel_file_path = 'training_data.xlsx'  # Replace with your Excel file path\n",
        "df = pd.read_excel(excel_file_path)\n",
        "\n",
        "# Split the data into training and testing sets (80% training, 20% testing)\n",
        "X_train, X_test, y_train, y_test = train_test_split(df['query'], df['response'], test_size=0.2, random_state=42)\n",
        "\n",
        "# Create a text classification pipeline\n",
        "text_clf = Pipeline([\n",
        "    ('tfidf', TfidfVectorizer()),  # Convert text to TF-IDF features\n",
        "    ('clf', MultinomialNB()),     # Use Multinomial Naive Bayes classifier\n",
        "])\n",
        "\n",
        "# Train the model on the training data\n",
        "text_clf.fit(X_train, y_train)\n",
        "\n",
        "# Function to predict responses with a default response\n",
        "def predict_response_with_default(query):\n",
        "    predicted_response = text_clf.predict([query])\n",
        "\n",
        "    if len(predicted_response) > 0:\n",
        "        return predicted_response[0]\n",
        "    else:\n",
        "        return \"XYZ will check and get back to you\"\n",
        "\n",
        "# Predict responses on the test data\n",
        "y_pred = [predict_response_with_default(query) for query in X_test]\n",
        "\n",
        "# Evaluate the model's performance (optional)\n",
        "accuracy = accuracy_score(y_test, y_pred)\n",
        "classification_report_str = classification_report(y_test, y_pred)\n",
        "\n",
        "print(f\"Accuracy: {accuracy:.2f}\")\n",
        "print(\"Classification Report:\\n\", classification_report_str)\n",
        "\n",
        "# Save the trained model (optional)\n",
        "import joblib\n",
        "joblib.dump(text_clf, 'response_prediction_model.pkl')\n"
      ]
    }
  ]
}